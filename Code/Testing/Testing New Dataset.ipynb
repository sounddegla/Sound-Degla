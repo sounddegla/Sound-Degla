{
 "cells": [
  {
   "attachments": {},
   "cell_type": "markdown",
   "metadata": {},
   "source": [
    "# 1. Import Library\n"
   ]
  },
  {
   "cell_type": "code",
   "execution_count": 26,
   "metadata": {},
   "outputs": [],
   "source": [
    "import cv2\n",
    "import numpy as np\n",
    "import os\n",
    "import time\n",
    "import mediapipe as mp\n",
    "from matplotlib import pyplot as plt\n",
    "from sklearn.model_selection import train_test_split\n",
    "from tensorflow.keras.utils import to_categorical\n",
    "from tensorflow.keras.models import Sequential, load_model\n",
    "from tensorflow.keras.layers import LSTM, Dense\n",
    "from tensorflow.keras.callbacks import TensorBoard\n",
    "from sklearn.metrics import multilabel_confusion_matrix, accuracy_score"
   ]
  },
  {
   "attachments": {},
   "cell_type": "markdown",
   "metadata": {},
   "source": [
    "# 2. Keypoints using MP Holistic"
   ]
  },
  {
   "cell_type": "code",
   "execution_count": 27,
   "metadata": {},
   "outputs": [],
   "source": [
    "# Memanggil model mediapipe \n",
    "mp_holistic = mp.solutions.holistic         # Holistic model untuk mendeteksi landmark tubuh\n",
    "mp_drawing = mp.solutions.drawing_utils     # Drawing utilities untuk menggambar landmark tubuh"
   ]
  },
  {
   "cell_type": "code",
   "execution_count": 28,
   "metadata": {},
   "outputs": [],
   "source": [
    "# Function untuk mendeteksi dan menggambar landmark tubuh\n",
    "def mediapipe_detection(image, model):\n",
    "    image = cv2.cvtColor(image, cv2.COLOR_BGR2RGB)      # COLOR CONVERSION BGR 2 RGB\n",
    "    image.flags.writeable = False                       # Image is no longer writeable\n",
    "    results = model.process(image)                      # Make prediction\n",
    "    image.flags.writeable = True                        # Image is now writeable \n",
    "    image = cv2.cvtColor(image, cv2.COLOR_RGB2BGR)      # COLOR COVERSION RGB 2 BGR\n",
    "    return image, results"
   ]
  },
  {
   "cell_type": "code",
   "execution_count": 29,
   "metadata": {},
   "outputs": [],
   "source": [
    "# Function untuk menggambar landmark tubuh\n",
    "def draw_landmarks(image, results):\n",
    "    mp_drawing.draw_landmarks(image, results.face_landmarks, mp_holistic.FACEMESH_TESSELATION)      # Draw face connections\n",
    "    mp_drawing.draw_landmarks(image, results.pose_landmarks, mp_holistic.POSE_CONNECTIONS)          # Draw pose connections\n",
    "    mp_drawing.draw_landmarks(image, results.left_hand_landmarks, mp_holistic.HAND_CONNECTIONS)     # Draw left hand connections\n",
    "    mp_drawing.draw_landmarks(image, results.right_hand_landmarks, mp_holistic.HAND_CONNECTIONS)    # Draw right hand connections"
   ]
  },
  {
   "cell_type": "code",
   "execution_count": 30,
   "metadata": {},
   "outputs": [],
   "source": [
    "# Function untuk menggambar landmark tubuh dengan style edited \n",
    "def draw_styled_landmarks(image, results):\n",
    "    # Draw face connections\n",
    "    mp_drawing.draw_landmarks(image, results.face_landmarks, mp_holistic.FACEMESH_TESSELATION, \n",
    "                             mp_drawing.DrawingSpec(color=(80,110,10), thickness=1, circle_radius=1), \n",
    "                             mp_drawing.DrawingSpec(color=(80,256,121), thickness=1, circle_radius=1)\n",
    "                             ) \n",
    "    # Draw pose connections\n",
    "    mp_drawing.draw_landmarks(image, results.pose_landmarks, mp_holistic.POSE_CONNECTIONS,\n",
    "                             mp_drawing.DrawingSpec(color=(80,22,10), thickness=2, circle_radius=4), \n",
    "                             mp_drawing.DrawingSpec(color=(80,44,121), thickness=2, circle_radius=2)\n",
    "                             ) \n",
    "    # Draw left hand connections\n",
    "    mp_drawing.draw_landmarks(image, results.left_hand_landmarks, mp_holistic.HAND_CONNECTIONS, \n",
    "                             mp_drawing.DrawingSpec(color=(121,22,76), thickness=2, circle_radius=4), \n",
    "                             mp_drawing.DrawingSpec(color=(121,44,250), thickness=2, circle_radius=2)\n",
    "                             ) \n",
    "    # Draw right hand connections  \n",
    "    mp_drawing.draw_landmarks(image, results.right_hand_landmarks, mp_holistic.HAND_CONNECTIONS, \n",
    "                             mp_drawing.DrawingSpec(color=(245,117,66), thickness=2, circle_radius=4), \n",
    "                             mp_drawing.DrawingSpec(color=(245,66,230), thickness=2, circle_radius=2)\n",
    "                             ) "
   ]
  },
  {
   "attachments": {},
   "cell_type": "markdown",
   "metadata": {},
   "source": [
    "# 3. Extract Keypoint Values"
   ]
  },
  {
   "cell_type": "code",
   "execution_count": 31,
   "metadata": {},
   "outputs": [],
   "source": [
    "# Function untuk melakukan ekstraksi keypoint landmark dan menaruhnya ke dalam array\n",
    "def extract_keypoints(results):\n",
    "    pose = np.array([[res.x, res.y, res.z, res.visibility] for res in results.pose_landmarks.landmark]).flatten() if results.pose_landmarks else np.zeros(33*4)\n",
    "    face = np.array([[res.x, res.y, res.z] for res in results.face_landmarks.landmark]).flatten() if results.face_landmarks else np.zeros(468*3)\n",
    "    lh = np.array([[res.x, res.y, res.z] for res in results.left_hand_landmarks.landmark]).flatten() if results.left_hand_landmarks else np.zeros(21*3)\n",
    "    rh = np.array([[res.x, res.y, res.z] for res in results.right_hand_landmarks.landmark]).flatten() if results.right_hand_landmarks else np.zeros(21*3)\n",
    "    return np.concatenate([pose, face, lh, rh])"
   ]
  },
  {
   "cell_type": "code",
   "execution_count": 32,
   "metadata": {},
   "outputs": [],
   "source": [
    "# result_test = extract_keypoints(results)"
   ]
  },
  {
   "cell_type": "code",
   "execution_count": 33,
   "metadata": {},
   "outputs": [],
   "source": [
    "# result_test.shape"
   ]
  },
  {
   "attachments": {},
   "cell_type": "markdown",
   "metadata": {},
   "source": [
    "# 4. Setup Folders for Collection"
   ]
  },
  {
   "cell_type": "code",
   "execution_count": 34,
   "metadata": {},
   "outputs": [],
   "source": [
    "# Path for exported data, numpy arrays\n",
    "DATA_PATH = os.path.join('D:/College/PKMKC/Sound Degla/New Dataset') \n",
    "\n",
    "# Actions that we try to detect\n",
    "actions = np.array(['aku', 'anda', 'kamu', 'saya', 'selamat pagi', 'selamat siang'])\n",
    "# actions = np.array(['aku', 'apa', 'bagaimana', 'berapa', 'dimana', 'kamu', 'kapan', 'kenapa', 'nama', 'sama_sama', 'terimakasih', 'tidak'])\n",
    "\n",
    "# Thirty videos worth of data\n",
    "no_sequences = 30\n",
    "\n",
    "# Videos are going to be 30 frames in length\n",
    "sequence_length = 30"
   ]
  },
  {
   "cell_type": "code",
   "execution_count": 35,
   "metadata": {},
   "outputs": [],
   "source": [
    "# Membuat folder data per video untuk setiap action\n",
    "for action in actions: \n",
    "    for sequence in range(no_sequences):\n",
    "        try: \n",
    "            os.makedirs(os.path.join(DATA_PATH, action, str(sequence)))\n",
    "        except:\n",
    "            pass"
   ]
  },
  {
   "attachments": {},
   "cell_type": "markdown",
   "metadata": {},
   "source": [
    "# 5. Collect Keypoint Values for Training and Testing"
   ]
  },
  {
   "attachments": {},
   "cell_type": "markdown",
   "metadata": {},
   "source": [
    "# 6. Preprocess Data and Create Labels and Features"
   ]
  },
  {
   "cell_type": "code",
   "execution_count": 36,
   "metadata": {},
   "outputs": [],
   "source": [
    "# Mengambil actions sebagai label dan mengubahnya menjadi numerical\n",
    "label_map = {label:num for num, label in enumerate(actions)}"
   ]
  },
  {
   "cell_type": "code",
   "execution_count": 37,
   "metadata": {},
   "outputs": [],
   "source": [
    "# Mengambil keypoint landmark per frame setiap video untuk setiap action\n",
    "sequences, labels = [], []      # Sequences -> fitur dari datanya\n",
    "# Looping untuk setiap actions\n",
    "for action in actions:\n",
    "    # Looping untuk setiap video\n",
    "    for sequence in range(no_sequences):\n",
    "        window = []     # Window -> List untuk keypoint semua frame setiap video\n",
    "        # Looping untuk setiap frame\n",
    "        for frame_num in range(sequence_length):\n",
    "            res = np.load(os.path.join(DATA_PATH, action, str(sequence), \"{}.npy\".format(frame_num)))\n",
    "            # Memasukkan keypoint frame ke dalam list window\n",
    "            window.append(res)\n",
    "        # Memasukkan window ke list sequences per video\n",
    "        sequences.append(window)\n",
    "        # Menambah label untuk setiap action\n",
    "        labels.append(label_map[action])"
   ]
  },
  {
   "cell_type": "code",
   "execution_count": 38,
   "metadata": {},
   "outputs": [
    {
     "data": {
      "text/plain": [
       "(180, 30, 1662)"
      ]
     },
     "execution_count": 38,
     "metadata": {},
     "output_type": "execute_result"
    }
   ],
   "source": [
    "# Menjadikan sequences sebagai fitur dari data\n",
    "X = np.array(sequences)\n",
    "X.shape"
   ]
  },
  {
   "cell_type": "code",
   "execution_count": 39,
   "metadata": {},
   "outputs": [
    {
     "data": {
      "text/plain": [
       "array([[1, 0, 0, 0, 0, 0],\n",
       "       [1, 0, 0, 0, 0, 0],\n",
       "       [1, 0, 0, 0, 0, 0],\n",
       "       [1, 0, 0, 0, 0, 0],\n",
       "       [1, 0, 0, 0, 0, 0],\n",
       "       [1, 0, 0, 0, 0, 0],\n",
       "       [1, 0, 0, 0, 0, 0],\n",
       "       [1, 0, 0, 0, 0, 0],\n",
       "       [1, 0, 0, 0, 0, 0],\n",
       "       [1, 0, 0, 0, 0, 0]])"
      ]
     },
     "execution_count": 39,
     "metadata": {},
     "output_type": "execute_result"
    }
   ],
   "source": [
    "# Mengubah label menjadi categorical list\n",
    "y = to_categorical(labels).astype(int)\n",
    "y[:10]"
   ]
  },
  {
   "cell_type": "code",
   "execution_count": 40,
   "metadata": {},
   "outputs": [],
   "source": [
    "# Memisahkan dataset menjadi data train & data test\n",
    "X_train, X_test, y_train, y_test = train_test_split(X, y, test_size=0.05)"
   ]
  },
  {
   "attachments": {},
   "cell_type": "markdown",
   "metadata": {},
   "source": [
    "# 7. Build and Train LSTM Neural Network"
   ]
  },
  {
   "cell_type": "code",
   "execution_count": 41,
   "metadata": {},
   "outputs": [],
   "source": [
    "# Menyimpan log callback dari proses training\n",
    "log_dir = os.path.join('Logs')\n",
    "tb_callback = TensorBoard(log_dir=log_dir)"
   ]
  },
  {
   "cell_type": "code",
   "execution_count": 42,
   "metadata": {},
   "outputs": [],
   "source": [
    "# Membuat arsitektur model\n",
    "model = Sequential()\n",
    "model.add(LSTM(64, return_sequences=True, activation='relu', input_shape=(30,1662)))    # input_shape = (frame, keypoint)\n",
    "model.add(LSTM(128, return_sequences=True, activation='relu'))\n",
    "model.add(LSTM(64, return_sequences=False, activation='relu'))\n",
    "model.add(Dense(64, activation='relu'))\n",
    "model.add(Dense(32, activation='relu'))\n",
    "model.add(Dense(actions.shape[0], activation='softmax'))"
   ]
  },
  {
   "cell_type": "code",
   "execution_count": 43,
   "metadata": {},
   "outputs": [],
   "source": [
    "# Melakukan compile pada model\n",
    "model.compile(\n",
    "    optimizer='Adam', \n",
    "    loss='categorical_crossentropy', \n",
    "    metrics=['categorical_accuracy']\n",
    ")"
   ]
  },
  {
   "cell_type": "code",
   "execution_count": 44,
   "metadata": {},
   "outputs": [
    {
     "name": "stdout",
     "output_type": "stream",
     "text": [
      "Epoch 1/100\n",
      "6/6 [==============================] - 10s 156ms/step - loss: 3.5069 - categorical_accuracy: 0.2222\n",
      "Epoch 2/100\n",
      "6/6 [==============================] - 1s 191ms/step - loss: 3.2480 - categorical_accuracy: 0.1754\n",
      "Epoch 3/100\n",
      "6/6 [==============================] - 1s 140ms/step - loss: 2.1759 - categorical_accuracy: 0.1988\n",
      "Epoch 4/100\n",
      "6/6 [==============================] - 1s 140ms/step - loss: 3.3607 - categorical_accuracy: 0.1930\n",
      "Epoch 5/100\n",
      "6/6 [==============================] - 1s 111ms/step - loss: 2.0817 - categorical_accuracy: 0.1579\n",
      "Epoch 6/100\n",
      "6/6 [==============================] - 1s 113ms/step - loss: 1.7815 - categorical_accuracy: 0.2047\n",
      "Epoch 7/100\n",
      "6/6 [==============================] - 1s 115ms/step - loss: 1.7885 - categorical_accuracy: 0.1462\n",
      "Epoch 8/100\n",
      "6/6 [==============================] - 1s 128ms/step - loss: 1.7527 - categorical_accuracy: 0.2632\n",
      "Epoch 9/100\n",
      "6/6 [==============================] - 1s 110ms/step - loss: 1.9465 - categorical_accuracy: 0.1754\n",
      "Epoch 10/100\n",
      "6/6 [==============================] - 1s 120ms/step - loss: 1.7471 - categorical_accuracy: 0.2105\n",
      "Epoch 11/100\n",
      "6/6 [==============================] - 1s 130ms/step - loss: 1.5621 - categorical_accuracy: 0.3333\n",
      "Epoch 12/100\n",
      "6/6 [==============================] - 1s 129ms/step - loss: 1.4442 - categorical_accuracy: 0.3216\n",
      "Epoch 13/100\n",
      "6/6 [==============================] - 1s 113ms/step - loss: 1.4548 - categorical_accuracy: 0.2982\n",
      "Epoch 14/100\n",
      "6/6 [==============================] - 1s 124ms/step - loss: 1.3493 - categorical_accuracy: 0.3860\n",
      "Epoch 15/100\n",
      "6/6 [==============================] - 1s 139ms/step - loss: 1.3705 - categorical_accuracy: 0.3392\n",
      "Epoch 16/100\n",
      "6/6 [==============================] - 1s 139ms/step - loss: 1.4099 - categorical_accuracy: 0.3392\n",
      "Epoch 17/100\n",
      "6/6 [==============================] - 1s 145ms/step - loss: 1.2882 - categorical_accuracy: 0.5029\n",
      "Epoch 18/100\n",
      "6/6 [==============================] - 1s 138ms/step - loss: 2.1320 - categorical_accuracy: 0.2515\n",
      "Epoch 19/100\n",
      "6/6 [==============================] - 1s 117ms/step - loss: 2.0800 - categorical_accuracy: 0.1637\n",
      "Epoch 20/100\n",
      "6/6 [==============================] - 1s 115ms/step - loss: 1.7872 - categorical_accuracy: 0.1579\n",
      "Epoch 21/100\n",
      "6/6 [==============================] - 1s 102ms/step - loss: 1.6786 - categorical_accuracy: 0.2690\n",
      "Epoch 22/100\n",
      "6/6 [==============================] - 1s 106ms/step - loss: 1.5141 - categorical_accuracy: 0.3275\n",
      "Epoch 23/100\n",
      "6/6 [==============================] - 1s 116ms/step - loss: 1.6866 - categorical_accuracy: 0.3450\n",
      "Epoch 24/100\n",
      "6/6 [==============================] - 1s 103ms/step - loss: 1.5543 - categorical_accuracy: 0.2982\n",
      "Epoch 25/100\n",
      "6/6 [==============================] - 1s 113ms/step - loss: 1.4228 - categorical_accuracy: 0.3041\n",
      "Epoch 26/100\n",
      "6/6 [==============================] - 1s 104ms/step - loss: 1.3206 - categorical_accuracy: 0.3216\n",
      "Epoch 27/100\n",
      "6/6 [==============================] - 1s 104ms/step - loss: 1.3207 - categorical_accuracy: 0.4211\n",
      "Epoch 28/100\n",
      "6/6 [==============================] - 1s 114ms/step - loss: 1.3257 - categorical_accuracy: 0.3743\n",
      "Epoch 29/100\n",
      "6/6 [==============================] - 1s 126ms/step - loss: 1.3241 - categorical_accuracy: 0.3567\n",
      "Epoch 30/100\n",
      "6/6 [==============================] - 1s 110ms/step - loss: 1.2850 - categorical_accuracy: 0.4211\n",
      "Epoch 31/100\n",
      "6/6 [==============================] - 1s 116ms/step - loss: 1.2684 - categorical_accuracy: 0.4211\n",
      "Epoch 32/100\n",
      "6/6 [==============================] - 1s 110ms/step - loss: 1.2379 - categorical_accuracy: 0.4386\n",
      "Epoch 33/100\n",
      "6/6 [==============================] - 1s 107ms/step - loss: 1.2414 - categorical_accuracy: 0.3567\n",
      "Epoch 34/100\n",
      "6/6 [==============================] - 1s 106ms/step - loss: 1.5324 - categorical_accuracy: 0.3684\n",
      "Epoch 35/100\n",
      "6/6 [==============================] - 1s 110ms/step - loss: 1.5600 - categorical_accuracy: 0.3743\n",
      "Epoch 36/100\n",
      "6/6 [==============================] - 1s 102ms/step - loss: 1.3379 - categorical_accuracy: 0.3860\n",
      "Epoch 37/100\n",
      "6/6 [==============================] - 1s 152ms/step - loss: 1.2878 - categorical_accuracy: 0.4035\n",
      "Epoch 38/100\n",
      "6/6 [==============================] - 1s 159ms/step - loss: 1.4602 - categorical_accuracy: 0.3216\n",
      "Epoch 39/100\n",
      "6/6 [==============================] - 1s 144ms/step - loss: 1.3576 - categorical_accuracy: 0.3450\n",
      "Epoch 40/100\n",
      "6/6 [==============================] - 1s 139ms/step - loss: 1.3785 - categorical_accuracy: 0.3509\n",
      "Epoch 41/100\n",
      "6/6 [==============================] - 1s 168ms/step - loss: 1.3059 - categorical_accuracy: 0.3626\n",
      "Epoch 42/100\n",
      "6/6 [==============================] - 1s 134ms/step - loss: 1.2263 - categorical_accuracy: 0.3860\n",
      "Epoch 43/100\n",
      "6/6 [==============================] - 1s 155ms/step - loss: 1.1415 - categorical_accuracy: 0.4386\n",
      "Epoch 44/100\n",
      "6/6 [==============================] - 1s 138ms/step - loss: 1.0986 - categorical_accuracy: 0.4912\n",
      "Epoch 45/100\n",
      "6/6 [==============================] - 1s 128ms/step - loss: 1.0282 - categorical_accuracy: 0.5146\n",
      "Epoch 46/100\n",
      "6/6 [==============================] - 1s 132ms/step - loss: 0.9379 - categorical_accuracy: 0.4912\n",
      "Epoch 47/100\n",
      "6/6 [==============================] - 1s 212ms/step - loss: 1.1314 - categorical_accuracy: 0.4269\n",
      "Epoch 48/100\n",
      "6/6 [==============================] - 1s 171ms/step - loss: 1.4456 - categorical_accuracy: 0.3977\n",
      "Epoch 49/100\n",
      "6/6 [==============================] - 1s 212ms/step - loss: 1.2954 - categorical_accuracy: 0.3626\n",
      "Epoch 50/100\n",
      "6/6 [==============================] - 3s 534ms/step - loss: 1.0851 - categorical_accuracy: 0.4854\n",
      "Epoch 51/100\n",
      "6/6 [==============================] - 1s 186ms/step - loss: 1.1049 - categorical_accuracy: 0.4737\n",
      "Epoch 52/100\n",
      "6/6 [==============================] - 1s 161ms/step - loss: 1.0396 - categorical_accuracy: 0.4795\n",
      "Epoch 53/100\n",
      "6/6 [==============================] - 1s 151ms/step - loss: 1.0410 - categorical_accuracy: 0.5205\n",
      "Epoch 54/100\n",
      "6/6 [==============================] - 1s 197ms/step - loss: 0.9835 - categorical_accuracy: 0.4795\n",
      "Epoch 55/100\n",
      "6/6 [==============================] - 1s 168ms/step - loss: 0.9637 - categorical_accuracy: 0.5439\n",
      "Epoch 56/100\n",
      "6/6 [==============================] - 1s 158ms/step - loss: 0.8757 - categorical_accuracy: 0.5848\n",
      "Epoch 57/100\n",
      "6/6 [==============================] - 1s 213ms/step - loss: 0.8453 - categorical_accuracy: 0.5205\n",
      "Epoch 58/100\n",
      "6/6 [==============================] - 1s 200ms/step - loss: 0.9383 - categorical_accuracy: 0.5556\n",
      "Epoch 59/100\n",
      "6/6 [==============================] - 1s 190ms/step - loss: 0.7365 - categorical_accuracy: 0.6842\n",
      "Epoch 60/100\n",
      "6/6 [==============================] - 1s 164ms/step - loss: 0.7034 - categorical_accuracy: 0.6667\n",
      "Epoch 61/100\n",
      "6/6 [==============================] - 1s 221ms/step - loss: 1.3709 - categorical_accuracy: 0.4678\n",
      "Epoch 62/100\n",
      "6/6 [==============================] - 1s 186ms/step - loss: 1.0636 - categorical_accuracy: 0.4912\n",
      "Epoch 63/100\n",
      "6/6 [==============================] - 1s 204ms/step - loss: 0.8369 - categorical_accuracy: 0.6374\n",
      "Epoch 64/100\n",
      "6/6 [==============================] - 1s 196ms/step - loss: 0.6931 - categorical_accuracy: 0.7018\n",
      "Epoch 65/100\n",
      "6/6 [==============================] - 1s 146ms/step - loss: 0.7825 - categorical_accuracy: 0.6082\n",
      "Epoch 66/100\n",
      "6/6 [==============================] - 1s 151ms/step - loss: 0.7267 - categorical_accuracy: 0.5731\n",
      "Epoch 67/100\n",
      "6/6 [==============================] - 1s 127ms/step - loss: 0.7064 - categorical_accuracy: 0.6842\n",
      "Epoch 68/100\n",
      "6/6 [==============================] - 1s 135ms/step - loss: 0.6170 - categorical_accuracy: 0.6725\n",
      "Epoch 69/100\n",
      "6/6 [==============================] - 1s 124ms/step - loss: 0.5880 - categorical_accuracy: 0.7135\n",
      "Epoch 70/100\n",
      "6/6 [==============================] - 1s 183ms/step - loss: 0.8166 - categorical_accuracy: 0.6433\n",
      "Epoch 71/100\n",
      "6/6 [==============================] - 1s 189ms/step - loss: 1.0158 - categorical_accuracy: 0.5088\n",
      "Epoch 72/100\n",
      "6/6 [==============================] - 1s 138ms/step - loss: 0.7253 - categorical_accuracy: 0.6901\n",
      "Epoch 73/100\n",
      "6/6 [==============================] - 1s 129ms/step - loss: 0.7068 - categorical_accuracy: 0.6433\n",
      "Epoch 74/100\n",
      "6/6 [==============================] - 1s 167ms/step - loss: 0.6182 - categorical_accuracy: 0.7193\n",
      "Epoch 75/100\n",
      "6/6 [==============================] - 1s 204ms/step - loss: 0.5870 - categorical_accuracy: 0.7135\n",
      "Epoch 76/100\n",
      "6/6 [==============================] - 1s 177ms/step - loss: 1.0079 - categorical_accuracy: 0.5205\n",
      "Epoch 77/100\n",
      "6/6 [==============================] - 1s 182ms/step - loss: 0.9142 - categorical_accuracy: 0.4912\n",
      "Epoch 78/100\n",
      "6/6 [==============================] - 1s 175ms/step - loss: 0.8207 - categorical_accuracy: 0.5848\n",
      "Epoch 79/100\n",
      "6/6 [==============================] - 1s 173ms/step - loss: 0.7347 - categorical_accuracy: 0.7076\n",
      "Epoch 80/100\n",
      "6/6 [==============================] - 1s 199ms/step - loss: 0.6486 - categorical_accuracy: 0.7310\n",
      "Epoch 81/100\n",
      "6/6 [==============================] - 1s 127ms/step - loss: 0.5969 - categorical_accuracy: 0.7135\n",
      "Epoch 82/100\n",
      "6/6 [==============================] - 1s 148ms/step - loss: 0.5590 - categorical_accuracy: 0.7602\n",
      "Epoch 83/100\n",
      "6/6 [==============================] - 1s 136ms/step - loss: 0.5348 - categorical_accuracy: 0.7427\n",
      "Epoch 84/100\n",
      "6/6 [==============================] - 1s 133ms/step - loss: 1.0473 - categorical_accuracy: 0.5322\n",
      "Epoch 85/100\n",
      "6/6 [==============================] - 1s 159ms/step - loss: 0.7798 - categorical_accuracy: 0.6082\n",
      "Epoch 86/100\n",
      "6/6 [==============================] - 1s 208ms/step - loss: 0.7322 - categorical_accuracy: 0.6550\n",
      "Epoch 87/100\n",
      "6/6 [==============================] - 1s 153ms/step - loss: 0.7111 - categorical_accuracy: 0.5965\n",
      "Epoch 88/100\n",
      "6/6 [==============================] - 1s 175ms/step - loss: 0.6730 - categorical_accuracy: 0.6257\n",
      "Epoch 89/100\n",
      "6/6 [==============================] - 1s 140ms/step - loss: 0.6488 - categorical_accuracy: 0.6725\n",
      "Epoch 90/100\n",
      "6/6 [==============================] - 1s 152ms/step - loss: 0.6468 - categorical_accuracy: 0.6374\n",
      "Epoch 91/100\n",
      "6/6 [==============================] - 1s 150ms/step - loss: 0.6212 - categorical_accuracy: 0.7135\n",
      "Epoch 92/100\n",
      "6/6 [==============================] - 1s 165ms/step - loss: 0.6088 - categorical_accuracy: 0.7310\n",
      "Epoch 93/100\n",
      "6/6 [==============================] - 1s 119ms/step - loss: 0.6545 - categorical_accuracy: 0.6608\n",
      "Epoch 94/100\n",
      "6/6 [==============================] - 1s 133ms/step - loss: 0.5066 - categorical_accuracy: 0.8129\n",
      "Epoch 95/100\n",
      "6/6 [==============================] - 1s 119ms/step - loss: 0.5616 - categorical_accuracy: 0.7251\n",
      "Epoch 96/100\n",
      "6/6 [==============================] - 1s 121ms/step - loss: 0.6298 - categorical_accuracy: 0.6667\n",
      "Epoch 97/100\n",
      "6/6 [==============================] - 1s 123ms/step - loss: 0.6183 - categorical_accuracy: 0.6374\n",
      "Epoch 98/100\n",
      "6/6 [==============================] - 1s 100ms/step - loss: 0.6745 - categorical_accuracy: 0.6491\n",
      "Epoch 99/100\n",
      "6/6 [==============================] - 1s 119ms/step - loss: 0.6586 - categorical_accuracy: 0.6784\n",
      "Epoch 100/100\n",
      "6/6 [==============================] - 1s 115ms/step - loss: 0.6907 - categorical_accuracy: 0.6374\n"
     ]
    },
    {
     "data": {
      "text/plain": [
       "<keras.callbacks.History at 0x26c756a6520>"
      ]
     },
     "execution_count": 44,
     "metadata": {},
     "output_type": "execute_result"
    }
   ],
   "source": [
    "# Melakukan training\n",
    "model.fit(\n",
    "    X_train, \n",
    "    y_train, \n",
    "    epochs=100, \n",
    "    callbacks=[tb_callback]\n",
    ")"
   ]
  },
  {
   "attachments": {},
   "cell_type": "markdown",
   "metadata": {},
   "source": [
    "# 8. Make Predictions"
   ]
  },
  {
   "cell_type": "code",
   "execution_count": 45,
   "metadata": {},
   "outputs": [
    {
     "name": "stdout",
     "output_type": "stream",
     "text": [
      "1/1 [==============================] - 3s 3s/step\n"
     ]
    }
   ],
   "source": [
    "# Melakukan prediction dengan model yang telah dilatih\n",
    "res = model.predict(X_test)"
   ]
  },
  {
   "cell_type": "code",
   "execution_count": 46,
   "metadata": {},
   "outputs": [
    {
     "data": {
      "text/plain": [
       "'aku'"
      ]
     },
     "execution_count": 46,
     "metadata": {},
     "output_type": "execute_result"
    }
   ],
   "source": [
    "# Menampilkan data prediksi pada index ke-5\n",
    "actions[np.argmax(res[4])]"
   ]
  },
  {
   "cell_type": "code",
   "execution_count": 47,
   "metadata": {},
   "outputs": [
    {
     "data": {
      "text/plain": [
       "'saya'"
      ]
     },
     "execution_count": 47,
     "metadata": {},
     "output_type": "execute_result"
    }
   ],
   "source": [
    "# Menampilkan data true pada index ke-5\n",
    "actions[np.argmax(y_test[4])]"
   ]
  },
  {
   "attachments": {},
   "cell_type": "markdown",
   "metadata": {},
   "source": [
    "# 9. Save Model"
   ]
  },
  {
   "cell_type": "code",
   "execution_count": 23,
   "metadata": {},
   "outputs": [],
   "source": [
    "# Menyimpan model yang telah ditraining\n",
    "model.save('model-new-dataset.h5')"
   ]
  },
  {
   "cell_type": "code",
   "execution_count": 24,
   "metadata": {},
   "outputs": [],
   "source": [
    "# Menghapus model\n",
    "del model"
   ]
  },
  {
   "cell_type": "code",
   "execution_count": 25,
   "metadata": {},
   "outputs": [
    {
     "ename": "OSError",
     "evalue": "No file or directory found at action-first-test.h5",
     "output_type": "error",
     "traceback": [
      "\u001b[1;31m---------------------------------------------------------------------------\u001b[0m",
      "\u001b[1;31mOSError\u001b[0m                                   Traceback (most recent call last)",
      "Cell \u001b[1;32mIn[25], line 2\u001b[0m\n\u001b[0;32m      1\u001b[0m \u001b[39m# Meload model yang telah ditraining\u001b[39;00m\n\u001b[1;32m----> 2\u001b[0m model \u001b[39m=\u001b[39m load_model(\u001b[39m'\u001b[39;49m\u001b[39maction-first-test.h5\u001b[39;49m\u001b[39m'\u001b[39;49m)\n",
      "File \u001b[1;32md:\\College\\PKMKC\\Sound Degla\\Env\\lib\\site-packages\\keras\\saving\\saving_api.py:212\u001b[0m, in \u001b[0;36mload_model\u001b[1;34m(filepath, custom_objects, compile, safe_mode, **kwargs)\u001b[0m\n\u001b[0;32m    204\u001b[0m     \u001b[39mreturn\u001b[39;00m saving_lib\u001b[39m.\u001b[39mload_model(\n\u001b[0;32m    205\u001b[0m         filepath,\n\u001b[0;32m    206\u001b[0m         custom_objects\u001b[39m=\u001b[39mcustom_objects,\n\u001b[0;32m    207\u001b[0m         \u001b[39mcompile\u001b[39m\u001b[39m=\u001b[39m\u001b[39mcompile\u001b[39m,\n\u001b[0;32m    208\u001b[0m         safe_mode\u001b[39m=\u001b[39msafe_mode,\n\u001b[0;32m    209\u001b[0m     )\n\u001b[0;32m    211\u001b[0m \u001b[39m# Legacy case.\u001b[39;00m\n\u001b[1;32m--> 212\u001b[0m \u001b[39mreturn\u001b[39;00m legacy_sm_saving_lib\u001b[39m.\u001b[39mload_model(\n\u001b[0;32m    213\u001b[0m     filepath, custom_objects\u001b[39m=\u001b[39mcustom_objects, \u001b[39mcompile\u001b[39m\u001b[39m=\u001b[39m\u001b[39mcompile\u001b[39m, \u001b[39m*\u001b[39m\u001b[39m*\u001b[39mkwargs\n\u001b[0;32m    214\u001b[0m )\n",
      "File \u001b[1;32md:\\College\\PKMKC\\Sound Degla\\Env\\lib\\site-packages\\keras\\utils\\traceback_utils.py:70\u001b[0m, in \u001b[0;36mfilter_traceback.<locals>.error_handler\u001b[1;34m(*args, **kwargs)\u001b[0m\n\u001b[0;32m     67\u001b[0m     filtered_tb \u001b[39m=\u001b[39m _process_traceback_frames(e\u001b[39m.\u001b[39m__traceback__)\n\u001b[0;32m     68\u001b[0m     \u001b[39m# To get the full stack trace, call:\u001b[39;00m\n\u001b[0;32m     69\u001b[0m     \u001b[39m# `tf.debugging.disable_traceback_filtering()`\u001b[39;00m\n\u001b[1;32m---> 70\u001b[0m     \u001b[39mraise\u001b[39;00m e\u001b[39m.\u001b[39mwith_traceback(filtered_tb) \u001b[39mfrom\u001b[39;00m \u001b[39mNone\u001b[39;00m\n\u001b[0;32m     71\u001b[0m \u001b[39mfinally\u001b[39;00m:\n\u001b[0;32m     72\u001b[0m     \u001b[39mdel\u001b[39;00m filtered_tb\n",
      "File \u001b[1;32md:\\College\\PKMKC\\Sound Degla\\Env\\lib\\site-packages\\keras\\saving\\legacy\\save.py:230\u001b[0m, in \u001b[0;36mload_model\u001b[1;34m(filepath, custom_objects, compile, options)\u001b[0m\n\u001b[0;32m    228\u001b[0m \u001b[39mif\u001b[39;00m \u001b[39misinstance\u001b[39m(filepath_str, \u001b[39mstr\u001b[39m):\n\u001b[0;32m    229\u001b[0m     \u001b[39mif\u001b[39;00m \u001b[39mnot\u001b[39;00m tf\u001b[39m.\u001b[39mio\u001b[39m.\u001b[39mgfile\u001b[39m.\u001b[39mexists(filepath_str):\n\u001b[1;32m--> 230\u001b[0m         \u001b[39mraise\u001b[39;00m \u001b[39mIOError\u001b[39;00m(\n\u001b[0;32m    231\u001b[0m             \u001b[39mf\u001b[39m\u001b[39m\"\u001b[39m\u001b[39mNo file or directory found at \u001b[39m\u001b[39m{\u001b[39;00mfilepath_str\u001b[39m}\u001b[39;00m\u001b[39m\"\u001b[39m\n\u001b[0;32m    232\u001b[0m         )\n\u001b[0;32m    234\u001b[0m     \u001b[39mif\u001b[39;00m tf\u001b[39m.\u001b[39mio\u001b[39m.\u001b[39mgfile\u001b[39m.\u001b[39misdir(filepath_str):\n\u001b[0;32m    235\u001b[0m         \u001b[39mreturn\u001b[39;00m saved_model_load\u001b[39m.\u001b[39mload(\n\u001b[0;32m    236\u001b[0m             filepath_str, \u001b[39mcompile\u001b[39m, options\n\u001b[0;32m    237\u001b[0m         )\n",
      "\u001b[1;31mOSError\u001b[0m: No file or directory found at action-first-test.h5"
     ]
    }
   ],
   "source": [
    "# Meload model yang telah ditraining\n",
    "model = load_model('action-new-dataset.h5')"
   ]
  },
  {
   "attachments": {},
   "cell_type": "markdown",
   "metadata": {},
   "source": [
    "# 10. Evaluation using Confusion Matrix and Accuracy"
   ]
  },
  {
   "cell_type": "code",
   "execution_count": null,
   "metadata": {},
   "outputs": [
    {
     "name": "stdout",
     "output_type": "stream",
     "text": [
      "1/1 [==============================] - 0s 93ms/step\n"
     ]
    }
   ],
   "source": [
    "# Melakukan prediction dengan model yang telah diload\n",
    "yhat = model.predict(X_test)"
   ]
  },
  {
   "cell_type": "code",
   "execution_count": null,
   "metadata": {},
   "outputs": [],
   "source": [
    "# Mengubah data asli dan hasil prediksi menjadi list\n",
    "ytrue = np.argmax(y_test, axis=1).tolist()\n",
    "yhat = np.argmax(yhat, axis=1).tolist()"
   ]
  },
  {
   "cell_type": "code",
   "execution_count": null,
   "metadata": {},
   "outputs": [
    {
     "data": {
      "text/plain": [
       "array([[[6, 1],\n",
       "        [2, 0]],\n",
       "\n",
       "       [[7, 1],\n",
       "        [0, 1]],\n",
       "\n",
       "       [[8, 0],\n",
       "        [1, 0]],\n",
       "\n",
       "       [[4, 0],\n",
       "        [3, 2]],\n",
       "\n",
       "       [[5, 4],\n",
       "        [0, 0]]], dtype=int64)"
      ]
     },
     "execution_count": 26,
     "metadata": {},
     "output_type": "execute_result"
    }
   ],
   "source": [
    "# Menampilkan multilabel confusion matrix\n",
    "multilabel_confusion_matrix(ytrue, yhat)"
   ]
  },
  {
   "cell_type": "code",
   "execution_count": null,
   "metadata": {},
   "outputs": [
    {
     "data": {
      "text/plain": [
       "0.3333333333333333"
      ]
     },
     "execution_count": 28,
     "metadata": {},
     "output_type": "execute_result"
    }
   ],
   "source": [
    "# Menampilkan akurasi dari model\n",
    "accuracy_score(ytrue, yhat)"
   ]
  },
  {
   "attachments": {},
   "cell_type": "markdown",
   "metadata": {},
   "source": [
    "# 11. Test in Real Time"
   ]
  },
  {
   "cell_type": "code",
   "execution_count": null,
   "metadata": {},
   "outputs": [],
   "source": [
    "colors = [(245,117,16), (117,245,16), (16,117,245)]\n",
    "# Function untuk menampilkan visualisasi probabilitas dari label\n",
    "def prob_viz(res, actions, input_frame, colors):\n",
    "    output_frame = input_frame.copy()\n",
    "    for num, prob in enumerate(res):\n",
    "        cv2.rectangle(output_frame, (0,60+num*40), (int(prob*100), 90+num*40), colors[num], -1)\n",
    "        cv2.putText(output_frame, actions[num], (0, 85+num*40), cv2.FONT_HERSHEY_SIMPLEX, 1, (255,255,255), 2, cv2.LINE_AA)\n",
    "        \n",
    "    return output_frame"
   ]
  },
  {
   "cell_type": "code",
   "execution_count": null,
   "metadata": {},
   "outputs": [
    {
     "name": "stdout",
     "output_type": "stream",
     "text": [
      "1/1 [==============================] - 0s 49ms/step\n",
      "tidak\n"
     ]
    },
    {
     "ename": "IndexError",
     "evalue": "list index out of range",
     "output_type": "error",
     "traceback": [
      "\u001b[1;31m---------------------------------------------------------------------------\u001b[0m",
      "\u001b[1;31mIndexError\u001b[0m                                Traceback (most recent call last)",
      "Cell \u001b[1;32mIn[32], line 62\u001b[0m\n\u001b[0;32m     59\u001b[0m         sentence \u001b[39m=\u001b[39m sentence[\u001b[39m-\u001b[39m\u001b[39m5\u001b[39m:]\n\u001b[0;32m     61\u001b[0m     \u001b[39m# Viz probabilities\u001b[39;00m\n\u001b[1;32m---> 62\u001b[0m     image \u001b[39m=\u001b[39m prob_viz(res, actions, image, colors)\n\u001b[0;32m     64\u001b[0m \u001b[39m# Mengambar box di window\u001b[39;00m\n\u001b[0;32m     65\u001b[0m cv2\u001b[39m.\u001b[39mrectangle(image, (\u001b[39m0\u001b[39m,\u001b[39m0\u001b[39m), (\u001b[39m640\u001b[39m, \u001b[39m40\u001b[39m), (\u001b[39m245\u001b[39m, \u001b[39m117\u001b[39m, \u001b[39m16\u001b[39m), \u001b[39m-\u001b[39m\u001b[39m1\u001b[39m)\n",
      "Cell \u001b[1;32mIn[30], line 6\u001b[0m, in \u001b[0;36mprob_viz\u001b[1;34m(res, actions, input_frame, colors)\u001b[0m\n\u001b[0;32m      4\u001b[0m output_frame \u001b[39m=\u001b[39m input_frame\u001b[39m.\u001b[39mcopy()\n\u001b[0;32m      5\u001b[0m \u001b[39mfor\u001b[39;00m num, prob \u001b[39min\u001b[39;00m \u001b[39menumerate\u001b[39m(res):\n\u001b[1;32m----> 6\u001b[0m     cv2\u001b[39m.\u001b[39mrectangle(output_frame, (\u001b[39m0\u001b[39m,\u001b[39m60\u001b[39m\u001b[39m+\u001b[39mnum\u001b[39m*\u001b[39m\u001b[39m40\u001b[39m), (\u001b[39mint\u001b[39m(prob\u001b[39m*\u001b[39m\u001b[39m100\u001b[39m), \u001b[39m90\u001b[39m\u001b[39m+\u001b[39mnum\u001b[39m*\u001b[39m\u001b[39m40\u001b[39m), colors[num], \u001b[39m-\u001b[39m\u001b[39m1\u001b[39m)\n\u001b[0;32m      7\u001b[0m     cv2\u001b[39m.\u001b[39mputText(output_frame, actions[num], (\u001b[39m0\u001b[39m, \u001b[39m85\u001b[39m\u001b[39m+\u001b[39mnum\u001b[39m*\u001b[39m\u001b[39m40\u001b[39m), cv2\u001b[39m.\u001b[39mFONT_HERSHEY_SIMPLEX, \u001b[39m1\u001b[39m, (\u001b[39m255\u001b[39m,\u001b[39m255\u001b[39m,\u001b[39m255\u001b[39m), \u001b[39m2\u001b[39m, cv2\u001b[39m.\u001b[39mLINE_AA)\n\u001b[0;32m      9\u001b[0m \u001b[39mreturn\u001b[39;00m output_frame\n",
      "\u001b[1;31mIndexError\u001b[0m: list index out of range"
     ]
    }
   ],
   "source": [
    "# 1. New detection variables\n",
    "sequence = []       # List untuk setiap frame\n",
    "sentence = []       # List untuk menaruh kata hasil prediksi\n",
    "predictions = []    # List untuk menaruh hasil prediksi\n",
    "threshold = 0.6     # Confidence matrix\n",
    "\n",
    "# Mengakses webcam\n",
    "cap = cv2.VideoCapture(0)\n",
    "# Set mediapipe model \n",
    "with mp_holistic.Holistic(min_detection_confidence=0.5, min_tracking_confidence=0.5) as holistic:\n",
    "    while cap.isOpened():\n",
    "\n",
    "        # Read feed\n",
    "        ret, frame = cap.read()\n",
    "\n",
    "        # Make detections\n",
    "        image, results = mediapipe_detection(frame, holistic)\n",
    "        # print(results)\n",
    "        \n",
    "        # Draw landmarks\n",
    "        draw_styled_landmarks(image, results)\n",
    "        \n",
    "        \n",
    "        # 2. Prediction logic\n",
    "        # Mengekstrak keypoint\n",
    "        keypoints = extract_keypoints(results)\n",
    "        sequence.insert(0,keypoints)\n",
    "        sequence = sequence[:30]\n",
    "        # sequence.append(keypoints)\n",
    "        # sequence = sequence[-30:]\n",
    "        \n",
    "        # Jika sudah 30 frame\n",
    "        if len(sequence) == 30:\n",
    "            # Melakukan prediction\n",
    "            res = model.predict(np.expand_dims(sequence, axis=0))[0]    # np.expand_dims -> Berfungsi untuk mengubah shape pada array\n",
    "            # Menampilkan hasil prediksi\n",
    "            print(actions[np.argmax(res)])\n",
    "            # Menambah hasil prediksi ke list predictions\n",
    "            predictions.append(np.argmax(res))\n",
    "            \n",
    "            \n",
    "        #3. Visualization logic\n",
    "            # Mengecek hasil dari prediksi apakah sama dengan hasil prediksi pada 10 frame terakhir atau tidak\n",
    "            if np.unique(predictions[-10:])[0]==np.argmax(res):\n",
    "                # Mengecek apakah probabilitas hasil prediksi lebih dari threshold atau tidak\n",
    "                if res[np.argmax(res)] > threshold: \n",
    "                    # Jika dalam sentence sudah ada kata\n",
    "                    if len(sentence) > 0: \n",
    "                        # Mengecek action yang sedang dideteksi tidak sama dengan action yang terakhir \n",
    "                        if actions[np.argmax(res)] != sentence[-1]:\n",
    "                            # Menambahkan kata ke dalam sentence\n",
    "                            sentence.append(actions[np.argmax(res)])\n",
    "                    else:\n",
    "                        sentence.append(actions[np.argmax(res)])\n",
    "\n",
    "            # Jika dalam sentence sudah ada 5 kata\n",
    "            if len(sentence) > 5: \n",
    "                # Mengambil 5 kata yang terakhir dari sentence\n",
    "                sentence = sentence[-5:]\n",
    "\n",
    "            # Viz probabilities\n",
    "            image = prob_viz(res, actions, image, colors)\n",
    "        \n",
    "        # Mengambar box di window\n",
    "        cv2.rectangle(image, (0,0), (640, 40), (245, 117, 16), -1)\n",
    "        # Menaruh setence ke window\n",
    "        cv2.putText(image, ' '.join(sentence), (3,30), \n",
    "                       cv2.FONT_HERSHEY_SIMPLEX, 1, (255, 255, 255), 2, cv2.LINE_AA)\n",
    "        \n",
    "        # Show to screen\n",
    "        cv2.imshow('OpenCV Feed', image)\n",
    "\n",
    "        # Break gracefully\n",
    "        if cv2.waitKey(10) & 0xFF == ord('q'):\n",
    "            break\n",
    "    cap.release()\n",
    "    cv2.destroyAllWindows()"
   ]
  },
  {
   "cell_type": "code",
   "execution_count": null,
   "metadata": {},
   "outputs": [],
   "source": [
    "cap.release()\n",
    "cv2.destroyAllWindows()"
   ]
  }
 ],
 "metadata": {
  "kernelspec": {
   "display_name": "Env",
   "language": "python",
   "name": "python3"
  },
  "language_info": {
   "codemirror_mode": {
    "name": "ipython",
    "version": 3
   },
   "file_extension": ".py",
   "mimetype": "text/x-python",
   "name": "python",
   "nbconvert_exporter": "python",
   "pygments_lexer": "ipython3",
   "version": "3.9.7"
  },
  "orig_nbformat": 4
 },
 "nbformat": 4,
 "nbformat_minor": 2
}
