{
 "cells": [
  {
   "attachments": {},
   "cell_type": "markdown",
   "metadata": {},
   "source": [
    "# 1. Import Library\n"
   ]
  },
  {
   "cell_type": "code",
   "execution_count": 1,
   "metadata": {},
   "outputs": [],
   "source": [
    "import cv2\n",
    "import numpy as np\n",
    "import os\n",
    "import time\n",
    "import mediapipe as mp\n",
    "from matplotlib import pyplot as plt\n",
    "from sklearn.model_selection import train_test_split\n",
    "from tensorflow.keras.utils import to_categorical\n",
    "from tensorflow.keras.models import Sequential, load_model\n",
    "from tensorflow.keras.layers import LSTM, Dense\n",
    "from tensorflow.keras.callbacks import TensorBoard\n",
    "from sklearn.metrics import multilabel_confusion_matrix, accuracy_score"
   ]
  },
  {
   "attachments": {},
   "cell_type": "markdown",
   "metadata": {},
   "source": [
    "# 2. Keypoints using MP Holistic"
   ]
  },
  {
   "cell_type": "code",
   "execution_count": 2,
   "metadata": {},
   "outputs": [],
   "source": [
    "# Memanggil model mediapipe \n",
    "mp_holistic = mp.solutions.holistic         # Holistic model untuk mendeteksi landmark tubuh\n",
    "mp_drawing = mp.solutions.drawing_utils     # Drawing utilities untuk menggambar landmark tubuh"
   ]
  },
  {
   "cell_type": "code",
   "execution_count": 3,
   "metadata": {},
   "outputs": [],
   "source": [
    "# Function untuk mendeteksi dan menggambar landmark tubuh\n",
    "def mediapipe_detection(image, model):\n",
    "    image = cv2.cvtColor(image, cv2.COLOR_BGR2RGB)      # COLOR CONVERSION BGR 2 RGB\n",
    "    image.flags.writeable = False                       # Image is no longer writeable\n",
    "    results = model.process(image)                      # Make prediction\n",
    "    image.flags.writeable = True                        # Image is now writeable \n",
    "    image = cv2.cvtColor(image, cv2.COLOR_RGB2BGR)      # COLOR COVERSION RGB 2 BGR\n",
    "    return image, results"
   ]
  },
  {
   "cell_type": "code",
   "execution_count": 4,
   "metadata": {},
   "outputs": [],
   "source": [
    "# Function untuk menggambar landmark tubuh\n",
    "def draw_landmarks(image, results):\n",
    "    mp_drawing.draw_landmarks(image, results.face_landmarks, mp_holistic.FACEMESH_TESSELATION)      # Draw face connections\n",
    "    mp_drawing.draw_landmarks(image, results.pose_landmarks, mp_holistic.POSE_CONNECTIONS)          # Draw pose connections\n",
    "    mp_drawing.draw_landmarks(image, results.left_hand_landmarks, mp_holistic.HAND_CONNECTIONS)     # Draw left hand connections\n",
    "    mp_drawing.draw_landmarks(image, results.right_hand_landmarks, mp_holistic.HAND_CONNECTIONS)    # Draw right hand connections"
   ]
  },
  {
   "cell_type": "code",
   "execution_count": 5,
   "metadata": {},
   "outputs": [],
   "source": [
    "# Function untuk menggambar landmark tubuh dengan style edited \n",
    "def draw_styled_landmarks(image, results):\n",
    "    # Draw face connections\n",
    "    mp_drawing.draw_landmarks(image, results.face_landmarks, mp_holistic.FACEMESH_TESSELATION, \n",
    "                             mp_drawing.DrawingSpec(color=(80,110,10), thickness=1, circle_radius=1), \n",
    "                             mp_drawing.DrawingSpec(color=(80,256,121), thickness=1, circle_radius=1)\n",
    "                             ) \n",
    "    # Draw pose connections\n",
    "    mp_drawing.draw_landmarks(image, results.pose_landmarks, mp_holistic.POSE_CONNECTIONS,\n",
    "                             mp_drawing.DrawingSpec(color=(80,22,10), thickness=2, circle_radius=4), \n",
    "                             mp_drawing.DrawingSpec(color=(80,44,121), thickness=2, circle_radius=2)\n",
    "                             ) \n",
    "    # Draw left hand connections\n",
    "    mp_drawing.draw_landmarks(image, results.left_hand_landmarks, mp_holistic.HAND_CONNECTIONS, \n",
    "                             mp_drawing.DrawingSpec(color=(121,22,76), thickness=2, circle_radius=4), \n",
    "                             mp_drawing.DrawingSpec(color=(121,44,250), thickness=2, circle_radius=2)\n",
    "                             ) \n",
    "    # Draw right hand connections  \n",
    "    mp_drawing.draw_landmarks(image, results.right_hand_landmarks, mp_holistic.HAND_CONNECTIONS, \n",
    "                             mp_drawing.DrawingSpec(color=(245,117,66), thickness=2, circle_radius=4), \n",
    "                             mp_drawing.DrawingSpec(color=(245,66,230), thickness=2, circle_radius=2)\n",
    "                             ) "
   ]
  },
  {
   "attachments": {},
   "cell_type": "markdown",
   "metadata": {},
   "source": [
    "# 3. Extract Keypoint Values"
   ]
  },
  {
   "cell_type": "code",
   "execution_count": 6,
   "metadata": {},
   "outputs": [],
   "source": [
    "# Function untuk melakukan ekstraksi keypoint landmark dan menaruhnya ke dalam array\n",
    "def extract_keypoints(results):\n",
    "    pose = np.array([[res.x, res.y, res.z, res.visibility] for res in results.pose_landmarks.landmark]).flatten() if results.pose_landmarks else np.zeros(33*4)\n",
    "    face = np.array([[res.x, res.y, res.z] for res in results.face_landmarks.landmark]).flatten() if results.face_landmarks else np.zeros(468*3)\n",
    "    lh = np.array([[res.x, res.y, res.z] for res in results.left_hand_landmarks.landmark]).flatten() if results.left_hand_landmarks else np.zeros(21*3)\n",
    "    rh = np.array([[res.x, res.y, res.z] for res in results.right_hand_landmarks.landmark]).flatten() if results.right_hand_landmarks else np.zeros(21*3)\n",
    "    return np.concatenate([pose, face, lh, rh])"
   ]
  },
  {
   "cell_type": "code",
   "execution_count": 7,
   "metadata": {},
   "outputs": [],
   "source": [
    "# result_test = extract_keypoints(results)"
   ]
  },
  {
   "cell_type": "code",
   "execution_count": 8,
   "metadata": {},
   "outputs": [],
   "source": [
    "# result_test.shape"
   ]
  },
  {
   "attachments": {},
   "cell_type": "markdown",
   "metadata": {},
   "source": [
    "# 4. Setup Folders for Collection"
   ]
  },
  {
   "cell_type": "code",
   "execution_count": 9,
   "metadata": {},
   "outputs": [],
   "source": [
    "# Path for exported data, numpy arrays\n",
    "DATA_PATH = os.path.join('D:/College/PKMKC/Sound Degla/Dataset') \n",
    "\n",
    "# Actions that we try to detect\n",
    "actions = np.array(['aku', 'apa', 'kamu'])\n",
    "# actions = np.array(['aku', 'apa', 'bagaimana', 'berapa', 'dimana', 'kamu', 'kapan', 'kenapa', 'nama', 'sama_sama', 'terimakasih', 'tidak'])\n",
    "\n",
    "# Thirty videos worth of data\n",
    "no_sequences = 30\n",
    "\n",
    "# Videos are going to be 30 frames in length\n",
    "sequence_length = 30"
   ]
  },
  {
   "cell_type": "code",
   "execution_count": 10,
   "metadata": {},
   "outputs": [],
   "source": [
    "# Membuat folder data per video untuk setiap action\n",
    "for action in actions: \n",
    "    for sequence in range(no_sequences):\n",
    "        try: \n",
    "            os.makedirs(os.path.join(DATA_PATH, action, str(sequence)))\n",
    "        except:\n",
    "            pass"
   ]
  },
  {
   "attachments": {},
   "cell_type": "markdown",
   "metadata": {},
   "source": [
    "# 5. Collect Keypoint Values for Training and Testing"
   ]
  },
  {
   "attachments": {},
   "cell_type": "markdown",
   "metadata": {},
   "source": [
    "# 6. Preprocess Data and Create Labels and Features"
   ]
  },
  {
   "cell_type": "code",
   "execution_count": 11,
   "metadata": {},
   "outputs": [],
   "source": [
    "# Mengambil actions sebagai label dan mengubahnya menjadi numerical\n",
    "label_map = {label:num for num, label in enumerate(actions)}"
   ]
  },
  {
   "cell_type": "code",
   "execution_count": 12,
   "metadata": {},
   "outputs": [],
   "source": [
    "# Mengambil keypoint landmark per frame setiap video untuk setiap action\n",
    "sequences, labels = [], []      # Sequences -> fitur dari datanya\n",
    "# Looping untuk setiap actions\n",
    "for action in actions:\n",
    "    # Looping untuk setiap video\n",
    "    for sequence in range(no_sequences):\n",
    "        window = []     # Window -> List untuk keypoint semua frame setiap video\n",
    "        # Looping untuk setiap frame\n",
    "        for frame_num in range(sequence_length):\n",
    "            res = np.load(os.path.join(DATA_PATH, action, str(sequence), \"{}.npy\".format(frame_num)))\n",
    "            # Memasukkan keypoint frame ke dalam list window\n",
    "            window.append(res)\n",
    "        # Memasukkan window ke list sequences per video\n",
    "        sequences.append(window)\n",
    "        # Menambah label untuk setiap action\n",
    "        labels.append(label_map[action])"
   ]
  },
  {
   "cell_type": "code",
   "execution_count": 13,
   "metadata": {},
   "outputs": [
    {
     "data": {
      "text/plain": [
       "(90, 30, 1662)"
      ]
     },
     "execution_count": 13,
     "metadata": {},
     "output_type": "execute_result"
    }
   ],
   "source": [
    "# Menjadikan sequences sebagai fitur dari data\n",
    "X = np.array(sequences)\n",
    "X.shape"
   ]
  },
  {
   "cell_type": "code",
   "execution_count": 14,
   "metadata": {},
   "outputs": [
    {
     "data": {
      "text/plain": [
       "array([[1, 0, 0],\n",
       "       [1, 0, 0],\n",
       "       [1, 0, 0],\n",
       "       [1, 0, 0],\n",
       "       [1, 0, 0],\n",
       "       [1, 0, 0],\n",
       "       [1, 0, 0],\n",
       "       [1, 0, 0],\n",
       "       [1, 0, 0],\n",
       "       [1, 0, 0]])"
      ]
     },
     "execution_count": 14,
     "metadata": {},
     "output_type": "execute_result"
    }
   ],
   "source": [
    "# Mengubah label menjadi categorical list\n",
    "y = to_categorical(labels).astype(int)\n",
    "y[:10]"
   ]
  },
  {
   "cell_type": "code",
   "execution_count": 15,
   "metadata": {},
   "outputs": [],
   "source": [
    "# Memisahkan dataset menjadi data train & data test\n",
    "X_train, X_test, y_train, y_test = train_test_split(X, y, test_size=0.05)"
   ]
  },
  {
   "attachments": {},
   "cell_type": "markdown",
   "metadata": {},
   "source": [
    "# 7. Build and Train LSTM Neural Network"
   ]
  },
  {
   "cell_type": "code",
   "execution_count": 16,
   "metadata": {},
   "outputs": [],
   "source": [
    "# Menyimpan log callback dari proses training\n",
    "log_dir = os.path.join('Logs')\n",
    "tb_callback = TensorBoard(log_dir=log_dir)"
   ]
  },
  {
   "cell_type": "code",
   "execution_count": 17,
   "metadata": {},
   "outputs": [],
   "source": [
    "# Membuat arsitektur model\n",
    "model = Sequential()\n",
    "model.add(LSTM(64, return_sequences=True, activation='relu', input_shape=(30,1662)))    # input_shape = (frame, keypoint)\n",
    "model.add(LSTM(128, return_sequences=True, activation='relu'))\n",
    "model.add(LSTM(64, return_sequences=False, activation='relu'))\n",
    "model.add(Dense(64, activation='relu'))\n",
    "model.add(Dense(32, activation='relu'))\n",
    "model.add(Dense(actions.shape[0], activation='softmax'))"
   ]
  },
  {
   "cell_type": "code",
   "execution_count": 18,
   "metadata": {},
   "outputs": [],
   "source": [
    "# Melakukan compile pada model\n",
    "model.compile(\n",
    "    optimizer='Adam', \n",
    "    loss='categorical_crossentropy', \n",
    "    metrics=['categorical_accuracy']\n",
    ")"
   ]
  },
  {
   "cell_type": "code",
   "execution_count": 19,
   "metadata": {},
   "outputs": [
    {
     "name": "stdout",
     "output_type": "stream",
     "text": [
      "Epoch 1/100\n"
     ]
    },
    {
     "name": "stdout",
     "output_type": "stream",
     "text": [
      "3/3 [==============================] - 12s 181ms/step - loss: 3.0088 - categorical_accuracy: 0.3882\n",
      "Epoch 2/100\n",
      "3/3 [==============================] - 1s 183ms/step - loss: 1.0754 - categorical_accuracy: 0.4706\n",
      "Epoch 3/100\n",
      "3/3 [==============================] - 1s 225ms/step - loss: 3.7665 - categorical_accuracy: 0.3529\n",
      "Epoch 4/100\n",
      "3/3 [==============================] - 1s 235ms/step - loss: 2.1263 - categorical_accuracy: 0.4588\n",
      "Epoch 5/100\n",
      "3/3 [==============================] - 1s 170ms/step - loss: 3.4266 - categorical_accuracy: 0.3176\n",
      "Epoch 6/100\n",
      "3/3 [==============================] - 1s 210ms/step - loss: 3.0037 - categorical_accuracy: 0.3059\n",
      "Epoch 7/100\n",
      "3/3 [==============================] - 0s 162ms/step - loss: 1.4591 - categorical_accuracy: 0.4118\n",
      "Epoch 8/100\n",
      "3/3 [==============================] - 1s 218ms/step - loss: 1.1015 - categorical_accuracy: 0.3765\n",
      "Epoch 9/100\n",
      "3/3 [==============================] - 1s 207ms/step - loss: 1.1202 - categorical_accuracy: 0.2941\n",
      "Epoch 10/100\n",
      "3/3 [==============================] - 1s 215ms/step - loss: 1.2659 - categorical_accuracy: 0.3412\n",
      "Epoch 11/100\n",
      "3/3 [==============================] - 0s 144ms/step - loss: 1.2031 - categorical_accuracy: 0.2353\n",
      "Epoch 12/100\n",
      "3/3 [==============================] - 1s 177ms/step - loss: 1.2841 - categorical_accuracy: 0.4235\n",
      "Epoch 13/100\n",
      "3/3 [==============================] - 0s 153ms/step - loss: 1.1520 - categorical_accuracy: 0.3412\n",
      "Epoch 14/100\n",
      "3/3 [==============================] - 1s 204ms/step - loss: 1.1437 - categorical_accuracy: 0.3294\n",
      "Epoch 15/100\n",
      "3/3 [==============================] - 1s 183ms/step - loss: 1.0995 - categorical_accuracy: 0.3059\n",
      "Epoch 16/100\n",
      "3/3 [==============================] - 1s 235ms/step - loss: 1.0733 - categorical_accuracy: 0.2706\n",
      "Epoch 17/100\n",
      "3/3 [==============================] - 1s 221ms/step - loss: 1.0490 - categorical_accuracy: 0.3412\n",
      "Epoch 18/100\n",
      "3/3 [==============================] - 1s 261ms/step - loss: 1.0296 - categorical_accuracy: 0.3647\n",
      "Epoch 19/100\n",
      "3/3 [==============================] - 1s 198ms/step - loss: 0.9862 - categorical_accuracy: 0.4824\n",
      "Epoch 20/100\n",
      "3/3 [==============================] - 1s 228ms/step - loss: 0.9369 - categorical_accuracy: 0.5765\n",
      "Epoch 21/100\n",
      "3/3 [==============================] - 1s 230ms/step - loss: 0.9617 - categorical_accuracy: 0.4941\n",
      "Epoch 22/100\n",
      "3/3 [==============================] - 1s 232ms/step - loss: 0.8546 - categorical_accuracy: 0.6471\n",
      "Epoch 23/100\n",
      "3/3 [==============================] - 1s 232ms/step - loss: 0.8112 - categorical_accuracy: 0.6235\n",
      "Epoch 24/100\n",
      "3/3 [==============================] - 1s 273ms/step - loss: 0.7324 - categorical_accuracy: 0.6353\n",
      "Epoch 25/100\n",
      "3/3 [==============================] - 1s 242ms/step - loss: 0.6892 - categorical_accuracy: 0.6588\n",
      "Epoch 26/100\n",
      "3/3 [==============================] - 1s 229ms/step - loss: 0.7748 - categorical_accuracy: 0.5765\n",
      "Epoch 27/100\n",
      "3/3 [==============================] - 1s 201ms/step - loss: 0.8557 - categorical_accuracy: 0.5882\n",
      "Epoch 28/100\n",
      "3/3 [==============================] - 1s 171ms/step - loss: 1.2014 - categorical_accuracy: 0.4235\n",
      "Epoch 29/100\n",
      "3/3 [==============================] - 1s 371ms/step - loss: 2.0356 - categorical_accuracy: 0.3647\n",
      "Epoch 30/100\n",
      "3/3 [==============================] - 1s 183ms/step - loss: 1.6994 - categorical_accuracy: 0.4353\n",
      "Epoch 31/100\n",
      "3/3 [==============================] - 1s 191ms/step - loss: 2.3249 - categorical_accuracy: 0.2588\n",
      "Epoch 32/100\n",
      "3/3 [==============================] - 1s 165ms/step - loss: 1.5021 - categorical_accuracy: 0.3647\n",
      "Epoch 33/100\n",
      "3/3 [==============================] - 1s 289ms/step - loss: 1.4016 - categorical_accuracy: 0.3529\n",
      "Epoch 34/100\n",
      "3/3 [==============================] - 1s 245ms/step - loss: 1.5543 - categorical_accuracy: 0.3647\n",
      "Epoch 35/100\n",
      "3/3 [==============================] - 1s 220ms/step - loss: 1.4742 - categorical_accuracy: 0.3647\n",
      "Epoch 36/100\n",
      "3/3 [==============================] - 1s 206ms/step - loss: 1.1250 - categorical_accuracy: 0.3882\n",
      "Epoch 37/100\n",
      "3/3 [==============================] - 1s 215ms/step - loss: 1.1418 - categorical_accuracy: 0.3294\n",
      "Epoch 38/100\n",
      "3/3 [==============================] - 0s 154ms/step - loss: 1.1624 - categorical_accuracy: 0.4235\n",
      "Epoch 39/100\n",
      "3/3 [==============================] - 1s 193ms/step - loss: 1.0803 - categorical_accuracy: 0.4824\n",
      "Epoch 40/100\n",
      "3/3 [==============================] - 1s 214ms/step - loss: 1.1183 - categorical_accuracy: 0.4353\n",
      "Epoch 41/100\n",
      "3/3 [==============================] - 1s 193ms/step - loss: 1.1961 - categorical_accuracy: 0.3294\n",
      "Epoch 42/100\n",
      "3/3 [==============================] - 1s 208ms/step - loss: 1.5593 - categorical_accuracy: 0.2706\n",
      "Epoch 43/100\n",
      "3/3 [==============================] - 0s 153ms/step - loss: 1.9136 - categorical_accuracy: 0.3294\n",
      "Epoch 44/100\n",
      "3/3 [==============================] - 0s 162ms/step - loss: 1.8256 - categorical_accuracy: 0.3647\n",
      "Epoch 45/100\n",
      "3/3 [==============================] - 0s 146ms/step - loss: 1.2361 - categorical_accuracy: 0.3765\n",
      "Epoch 46/100\n",
      "3/3 [==============================] - 0s 164ms/step - loss: 1.0402 - categorical_accuracy: 0.4118\n",
      "Epoch 47/100\n",
      "3/3 [==============================] - 0s 136ms/step - loss: 1.2901 - categorical_accuracy: 0.3294\n",
      "Epoch 48/100\n",
      "3/3 [==============================] - 0s 142ms/step - loss: 1.2313 - categorical_accuracy: 0.3647\n",
      "Epoch 49/100\n",
      "3/3 [==============================] - 0s 155ms/step - loss: 1.1410 - categorical_accuracy: 0.3294\n",
      "Epoch 50/100\n",
      "3/3 [==============================] - 0s 124ms/step - loss: 1.0680 - categorical_accuracy: 0.3882\n",
      "Epoch 51/100\n",
      "3/3 [==============================] - 0s 123ms/step - loss: 1.0743 - categorical_accuracy: 0.4588\n",
      "Epoch 52/100\n",
      "3/3 [==============================] - 0s 168ms/step - loss: 1.1294 - categorical_accuracy: 0.2471\n",
      "Epoch 53/100\n",
      "3/3 [==============================] - 0s 145ms/step - loss: 1.1103 - categorical_accuracy: 0.3412\n",
      "Epoch 54/100\n",
      "3/3 [==============================] - 0s 142ms/step - loss: 1.1070 - categorical_accuracy: 0.3412\n",
      "Epoch 55/100\n",
      "3/3 [==============================] - 0s 165ms/step - loss: 1.1025 - categorical_accuracy: 0.4235\n",
      "Epoch 56/100\n",
      "3/3 [==============================] - 0s 146ms/step - loss: 1.1319 - categorical_accuracy: 0.2471\n",
      "Epoch 57/100\n",
      "3/3 [==============================] - 0s 140ms/step - loss: 1.1033 - categorical_accuracy: 0.2824\n",
      "Epoch 58/100\n",
      "3/3 [==============================] - 0s 132ms/step - loss: 1.0832 - categorical_accuracy: 0.3059\n",
      "Epoch 59/100\n",
      "3/3 [==============================] - 0s 133ms/step - loss: 1.0715 - categorical_accuracy: 0.4000\n",
      "Epoch 60/100\n",
      "3/3 [==============================] - 0s 139ms/step - loss: 1.0785 - categorical_accuracy: 0.3176\n",
      "Epoch 61/100\n",
      "3/3 [==============================] - 0s 144ms/step - loss: 1.0834 - categorical_accuracy: 0.3529\n",
      "Epoch 62/100\n",
      "3/3 [==============================] - 0s 147ms/step - loss: 1.0873 - categorical_accuracy: 0.3765\n",
      "Epoch 63/100\n",
      "3/3 [==============================] - 0s 125ms/step - loss: 1.0842 - categorical_accuracy: 0.3647\n",
      "Epoch 64/100\n",
      "3/3 [==============================] - 1s 181ms/step - loss: 1.0752 - categorical_accuracy: 0.3882\n",
      "Epoch 65/100\n",
      "3/3 [==============================] - 1s 176ms/step - loss: 1.0769 - categorical_accuracy: 0.3647\n",
      "Epoch 66/100\n",
      "3/3 [==============================] - 0s 127ms/step - loss: 1.0738 - categorical_accuracy: 0.3765\n",
      "Epoch 67/100\n",
      "3/3 [==============================] - 0s 131ms/step - loss: 1.0637 - categorical_accuracy: 0.3882\n",
      "Epoch 68/100\n",
      "3/3 [==============================] - 0s 145ms/step - loss: 1.0522 - categorical_accuracy: 0.3765\n",
      "Epoch 69/100\n",
      "3/3 [==============================] - 0s 137ms/step - loss: 1.0087 - categorical_accuracy: 0.4824\n",
      "Epoch 70/100\n",
      "3/3 [==============================] - 1s 163ms/step - loss: 1.0290 - categorical_accuracy: 0.4235\n",
      "Epoch 71/100\n",
      "3/3 [==============================] - 0s 144ms/step - loss: 1.0103 - categorical_accuracy: 0.4118\n",
      "Epoch 72/100\n",
      "3/3 [==============================] - 1s 154ms/step - loss: 0.9944 - categorical_accuracy: 0.5294\n",
      "Epoch 73/100\n",
      "3/3 [==============================] - 0s 140ms/step - loss: 1.1641 - categorical_accuracy: 0.3647\n",
      "Epoch 74/100\n",
      "3/3 [==============================] - 0s 144ms/step - loss: 1.1320 - categorical_accuracy: 0.3294\n",
      "Epoch 75/100\n",
      "3/3 [==============================] - 0s 131ms/step - loss: 1.0106 - categorical_accuracy: 0.5294\n",
      "Epoch 76/100\n",
      "3/3 [==============================] - 0s 155ms/step - loss: 0.8944 - categorical_accuracy: 0.5412\n",
      "Epoch 77/100\n",
      "3/3 [==============================] - 0s 131ms/step - loss: 0.7598 - categorical_accuracy: 0.6000\n",
      "Epoch 78/100\n",
      "3/3 [==============================] - 0s 140ms/step - loss: 1.1956 - categorical_accuracy: 0.4471\n",
      "Epoch 79/100\n",
      "3/3 [==============================] - 0s 170ms/step - loss: 1.1957 - categorical_accuracy: 0.3294\n",
      "Epoch 80/100\n",
      "3/3 [==============================] - 0s 152ms/step - loss: 1.0922 - categorical_accuracy: 0.3412\n",
      "Epoch 81/100\n",
      "3/3 [==============================] - 0s 141ms/step - loss: 1.0770 - categorical_accuracy: 0.3529\n",
      "Epoch 82/100\n",
      "3/3 [==============================] - 0s 136ms/step - loss: 1.0771 - categorical_accuracy: 0.3765\n",
      "Epoch 83/100\n",
      "3/3 [==============================] - 0s 137ms/step - loss: 1.0811 - categorical_accuracy: 0.4000\n",
      "Epoch 84/100\n",
      "3/3 [==============================] - 0s 111ms/step - loss: 1.0709 - categorical_accuracy: 0.4471\n",
      "Epoch 85/100\n",
      "3/3 [==============================] - 0s 132ms/step - loss: 1.0686 - categorical_accuracy: 0.3765\n",
      "Epoch 86/100\n",
      "3/3 [==============================] - 0s 137ms/step - loss: 1.0831 - categorical_accuracy: 0.5412\n",
      "Epoch 87/100\n",
      "3/3 [==============================] - 0s 106ms/step - loss: 1.0567 - categorical_accuracy: 0.4000\n",
      "Epoch 88/100\n",
      "3/3 [==============================] - 0s 185ms/step - loss: 1.0519 - categorical_accuracy: 0.4235\n",
      "Epoch 89/100\n",
      "3/3 [==============================] - 1s 150ms/step - loss: 1.0063 - categorical_accuracy: 0.4706\n",
      "Epoch 90/100\n",
      "3/3 [==============================] - 0s 176ms/step - loss: 0.9792 - categorical_accuracy: 0.4235\n",
      "Epoch 91/100\n",
      "3/3 [==============================] - 0s 145ms/step - loss: 1.0860 - categorical_accuracy: 0.4941\n",
      "Epoch 92/100\n",
      "3/3 [==============================] - 1s 208ms/step - loss: 1.1547 - categorical_accuracy: 0.4000\n",
      "Epoch 93/100\n",
      "3/3 [==============================] - 1s 164ms/step - loss: 1.1902 - categorical_accuracy: 0.4235\n",
      "Epoch 94/100\n",
      "3/3 [==============================] - 0s 149ms/step - loss: 1.1352 - categorical_accuracy: 0.3176\n",
      "Epoch 95/100\n",
      "3/3 [==============================] - 0s 129ms/step - loss: 1.1520 - categorical_accuracy: 0.2706\n",
      "Epoch 96/100\n",
      "3/3 [==============================] - 0s 120ms/step - loss: 1.1050 - categorical_accuracy: 0.4000\n",
      "Epoch 97/100\n",
      "3/3 [==============================] - 0s 120ms/step - loss: 1.0959 - categorical_accuracy: 0.4118\n",
      "Epoch 98/100\n",
      "3/3 [==============================] - 0s 113ms/step - loss: 1.0878 - categorical_accuracy: 0.3765\n",
      "Epoch 99/100\n",
      "3/3 [==============================] - 0s 136ms/step - loss: 1.0865 - categorical_accuracy: 0.3765\n",
      "Epoch 100/100\n",
      "3/3 [==============================] - 0s 127ms/step - loss: 1.0982 - categorical_accuracy: 0.3765\n"
     ]
    },
    {
     "data": {
      "text/plain": [
       "<keras.callbacks.History at 0x1a353f77e80>"
      ]
     },
     "execution_count": 19,
     "metadata": {},
     "output_type": "execute_result"
    }
   ],
   "source": [
    "# Melakukan training\n",
    "model.fit(\n",
    "    X_train, \n",
    "    y_train, \n",
    "    epochs=100, \n",
    "    callbacks=[tb_callback]\n",
    ")"
   ]
  },
  {
   "attachments": {},
   "cell_type": "markdown",
   "metadata": {},
   "source": [
    "# 8. Make Predictions"
   ]
  },
  {
   "cell_type": "code",
   "execution_count": 20,
   "metadata": {},
   "outputs": [
    {
     "name": "stdout",
     "output_type": "stream",
     "text": [
      "1/1 [==============================] - 1s 1s/step\n"
     ]
    }
   ],
   "source": [
    "# Melakukan prediction dengan model yang telah dilatih\n",
    "res = model.predict(X_test)"
   ]
  },
  {
   "cell_type": "code",
   "execution_count": 21,
   "metadata": {},
   "outputs": [
    {
     "data": {
      "text/plain": [
       "'aku'"
      ]
     },
     "execution_count": 21,
     "metadata": {},
     "output_type": "execute_result"
    }
   ],
   "source": [
    "# Menampilkan data prediksi pada index ke-5\n",
    "actions[np.argmax(res[4])]"
   ]
  },
  {
   "cell_type": "code",
   "execution_count": 22,
   "metadata": {},
   "outputs": [
    {
     "data": {
      "text/plain": [
       "'apa'"
      ]
     },
     "execution_count": 22,
     "metadata": {},
     "output_type": "execute_result"
    }
   ],
   "source": [
    "# Menampilkan data true pada index ke-5\n",
    "actions[np.argmax(y_test[4])]"
   ]
  },
  {
   "attachments": {},
   "cell_type": "markdown",
   "metadata": {},
   "source": [
    "# 9. Save Model"
   ]
  },
  {
   "cell_type": "code",
   "execution_count": 23,
   "metadata": {},
   "outputs": [],
   "source": [
    "# Menyimpan model yang telah ditraining\n",
    "model.save('model-3-word.h5')"
   ]
  },
  {
   "cell_type": "code",
   "execution_count": null,
   "metadata": {},
   "outputs": [],
   "source": [
    "# Menghapus model\n",
    "del model"
   ]
  },
  {
   "cell_type": "code",
   "execution_count": null,
   "metadata": {},
   "outputs": [],
   "source": [
    "# Meload model yang telah ditraining\n",
    "model = load_model('action-first-test.h5')"
   ]
  },
  {
   "attachments": {},
   "cell_type": "markdown",
   "metadata": {},
   "source": [
    "# 10. Evaluation using Confusion Matrix and Accuracy"
   ]
  },
  {
   "cell_type": "code",
   "execution_count": 24,
   "metadata": {},
   "outputs": [
    {
     "name": "stdout",
     "output_type": "stream",
     "text": [
      "1/1 [==============================] - 0s 130ms/step\n"
     ]
    }
   ],
   "source": [
    "# Melakukan prediction dengan model yang telah diload\n",
    "yhat = model.predict(X_test)"
   ]
  },
  {
   "cell_type": "code",
   "execution_count": 25,
   "metadata": {},
   "outputs": [],
   "source": [
    "# Mengubah data asli dan hasil prediksi menjadi list\n",
    "ytrue = np.argmax(y_test, axis=1).tolist()\n",
    "yhat = np.argmax(yhat, axis=1).tolist()"
   ]
  },
  {
   "cell_type": "code",
   "execution_count": 26,
   "metadata": {},
   "outputs": [
    {
     "data": {
      "text/plain": [
       "array([[[0, 4],\n",
       "        [0, 1]],\n",
       "\n",
       "       [[2, 0],\n",
       "        [3, 0]],\n",
       "\n",
       "       [[4, 0],\n",
       "        [1, 0]]], dtype=int64)"
      ]
     },
     "execution_count": 26,
     "metadata": {},
     "output_type": "execute_result"
    }
   ],
   "source": [
    "# Menampilkan multilabel confusion matrix\n",
    "multilabel_confusion_matrix(ytrue, yhat)"
   ]
  },
  {
   "cell_type": "code",
   "execution_count": 27,
   "metadata": {},
   "outputs": [
    {
     "data": {
      "text/plain": [
       "0.2"
      ]
     },
     "execution_count": 27,
     "metadata": {},
     "output_type": "execute_result"
    }
   ],
   "source": [
    "# Menampilkan akurasi dari model\n",
    "accuracy_score(ytrue, yhat)"
   ]
  },
  {
   "attachments": {},
   "cell_type": "markdown",
   "metadata": {},
   "source": [
    "# 11. Test in Real Time"
   ]
  },
  {
   "cell_type": "code",
   "execution_count": null,
   "metadata": {},
   "outputs": [],
   "source": [
    "colors = [(245,117,16), (117,245,16), (16,117,245)]\n",
    "# Function untuk menampilkan visualisasi probabilitas dari label\n",
    "def prob_viz(res, actions, input_frame, colors):\n",
    "    output_frame = input_frame.copy()\n",
    "    for num, prob in enumerate(res):\n",
    "        cv2.rectangle(output_frame, (0,60+num*40), (int(prob*100), 90+num*40), colors[num], -1)\n",
    "        cv2.putText(output_frame, actions[num], (0, 85+num*40), cv2.FONT_HERSHEY_SIMPLEX, 1, (255,255,255), 2, cv2.LINE_AA)\n",
    "        \n",
    "    return output_frame"
   ]
  },
  {
   "cell_type": "code",
   "execution_count": 1,
   "metadata": {},
   "outputs": [
    {
     "ename": "NameError",
     "evalue": "name 'cv2' is not defined",
     "output_type": "error",
     "traceback": [
      "\u001b[1;31m---------------------------------------------------------------------------\u001b[0m",
      "\u001b[1;31mNameError\u001b[0m                                 Traceback (most recent call last)",
      "Cell \u001b[1;32mIn[1], line 8\u001b[0m\n\u001b[0;32m      5\u001b[0m threshold \u001b[39m=\u001b[39m \u001b[39m0.6\u001b[39m     \u001b[39m# Confidence matrix\u001b[39;00m\n\u001b[0;32m      7\u001b[0m \u001b[39m# Mengakses webcam\u001b[39;00m\n\u001b[1;32m----> 8\u001b[0m cap \u001b[39m=\u001b[39m cv2\u001b[39m.\u001b[39mVideoCapture(\u001b[39m0\u001b[39m)\n\u001b[0;32m      9\u001b[0m \u001b[39m# Set mediapipe model \u001b[39;00m\n\u001b[0;32m     10\u001b[0m \u001b[39mwith\u001b[39;00m mp_holistic\u001b[39m.\u001b[39mHolistic(min_detection_confidence\u001b[39m=\u001b[39m\u001b[39m0.5\u001b[39m, min_tracking_confidence\u001b[39m=\u001b[39m\u001b[39m0.5\u001b[39m) \u001b[39mas\u001b[39;00m holistic:\n",
      "\u001b[1;31mNameError\u001b[0m: name 'cv2' is not defined"
     ]
    }
   ],
   "source": [
    "# 1. New detection variables\n",
    "sequence = []       # List untuk setiap frame\n",
    "sentence = []       # List untuk menaruh kata hasil prediksi\n",
    "predictions = []    # List untuk menaruh hasil prediksi\n",
    "threshold = 0.6     # Confidence matrix\n",
    "\n",
    "# Mengakses webcam\n",
    "cap = cv2.VideoCapture(0)\n",
    "# Set mediapipe model \n",
    "with mp_holistic.Holistic(min_detection_confidence=0.5, min_tracking_confidence=0.5) as holistic:\n",
    "    while cap.isOpened():\n",
    "\n",
    "        # Read feed\n",
    "        ret, frame = cap.read()\n",
    "\n",
    "        # Make detections\n",
    "        image, results = mediapipe_detection(frame, holistic)\n",
    "        # print(results)\n",
    "        \n",
    "        # Draw landmarks\n",
    "        draw_styled_landmarks(image, results)\n",
    "        \n",
    "        \n",
    "        # 2. Prediction logic\n",
    "        # Mengekstrak keypoint\n",
    "        keypoints = extract_keypoints(results)\n",
    "        sequence.insert(0,keypoints)\n",
    "        sequence = sequence[:30]\n",
    "        # sequence.append(keypoints)\n",
    "        # sequence = sequence[-30:]\n",
    "        \n",
    "        # Jika sudah 30 frame\n",
    "        if len(sequence) == 30:\n",
    "            # Melakukan prediction\n",
    "            res = model.predict(np.expand_dims(sequence, axis=0))[0]    # np.expand_dims -> Berfungsi untuk mengubah shape pada array\n",
    "            # Menampilkan hasil prediksi\n",
    "            print(actions[np.argmax(res)])\n",
    "            # Menambah hasil prediksi ke list predictions\n",
    "            predictions.append(np.argmax(res))\n",
    "            \n",
    "            \n",
    "        #3. Visualization logic\n",
    "            # Mengecek hasil dari prediksi apakah sama dengan hasil prediksi pada 10 frame terakhir atau tidak\n",
    "            if np.unique(predictions[-10:])[0]==np.argmax(res):\n",
    "                # Mengecek apakah probabilitas hasil prediksi lebih dari threshold atau tidak\n",
    "                if res[np.argmax(res)] > threshold: \n",
    "                    # Jika dalam sentence sudah ada kata\n",
    "                    if len(sentence) > 0: \n",
    "                        # Mengecek action yang sedang dideteksi tidak sama dengan action yang terakhir \n",
    "                        if actions[np.argmax(res)] != sentence[-1]:\n",
    "                            # Menambahkan kata ke dalam sentence\n",
    "                            sentence.append(actions[np.argmax(res)])\n",
    "                    else:\n",
    "                        sentence.append(actions[np.argmax(res)])\n",
    "\n",
    "            # Jika dalam sentence sudah ada 5 kata\n",
    "            if len(sentence) > 5: \n",
    "                # Mengambil 5 kata yang terakhir dari sentence\n",
    "                sentence = sentence[-5:]\n",
    "\n",
    "            # Viz probabilities\n",
    "            image = prob_viz(res, actions, image, colors)\n",
    "        \n",
    "        # Mengambar box di window\n",
    "        cv2.rectangle(image, (0,0), (640, 40), (245, 117, 16), -1)\n",
    "        # Menaruh setence ke window\n",
    "        cv2.putText(image, ' '.join(sentence), (3,30), \n",
    "                       cv2.FONT_HERSHEY_SIMPLEX, 1, (255, 255, 255), 2, cv2.LINE_AA)\n",
    "        \n",
    "        # Show to screen\n",
    "        cv2.imshow('OpenCV Feed', image)\n",
    "\n",
    "        # Break gracefully\n",
    "        if cv2.waitKey(10) & 0xFF == ord('q'):\n",
    "            break\n",
    "    cap.release()\n",
    "    cv2.destroyAllWindows()"
   ]
  },
  {
   "cell_type": "code",
   "execution_count": null,
   "metadata": {},
   "outputs": [],
   "source": [
    "cap.release()\n",
    "cv2.destroyAllWindows()"
   ]
  }
 ],
 "metadata": {
  "kernelspec": {
   "display_name": "Env",
   "language": "python",
   "name": "python3"
  },
  "language_info": {
   "codemirror_mode": {
    "name": "ipython",
    "version": 3
   },
   "file_extension": ".py",
   "mimetype": "text/x-python",
   "name": "python",
   "nbconvert_exporter": "python",
   "pygments_lexer": "ipython3",
   "version": "3.9.7"
  },
  "orig_nbformat": 4
 },
 "nbformat": 4,
 "nbformat_minor": 2
}
