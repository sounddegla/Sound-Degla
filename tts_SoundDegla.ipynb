{
 "cells": [
  {
   "cell_type": "code",
   "execution_count": 43,
   "id": "2fbaee71",
   "metadata": {},
   "outputs": [
    {
     "name": "stdout",
     "output_type": "stream",
     "text": [
      "Collecting pygame\n",
      "  Downloading pygame-2.5.0-cp310-cp310-macosx_10_9_x86_64.whl (13.0 MB)\n",
      "\u001b[2K     \u001b[90m━━━━━━━━━━━━━━━━━━━━━━━━━━━━━━━━━━━━━━━━\u001b[0m \u001b[32m13.0/13.0 MB\u001b[0m \u001b[31m4.8 MB/s\u001b[0m eta \u001b[36m0:00:00\u001b[0m00:01\u001b[0m00:01\u001b[0m\n",
      "\u001b[?25hInstalling collected packages: pygame\n",
      "Successfully installed pygame-2.5.0\n"
     ]
    }
   ],
   "source": [
    "!pip install pygame"
   ]
  },
  {
   "cell_type": "markdown",
   "id": "b527f755",
   "metadata": {},
   "source": [
    "## With Mac Operatios System"
   ]
  },
  {
   "cell_type": "code",
   "execution_count": 26,
   "id": "972a6585",
   "metadata": {},
   "outputs": [],
   "source": [
    "import os\n",
    "import platform\n",
    "import subprocess\n",
    "\n",
    "def text_to_speech(text):\n",
    "    if platform.system() == \"Darwin\":\n",
    "        engine = \"say\"\n",
    "        command = ['say', text]\n",
    "    else:\n",
    "        print(\"Maaf, sistem operasi tidak didukung.\")\n",
    "        return\n",
    "    \n",
    "    try:\n",
    "        subprocess.run(command, check=True)\n",
    "    except subprocess.CalledProcessError as error:\n",
    "        print(f\"Terjadi kesalahan saat menjalankan engine {engine}: {error}\")\n",
    "\n",
    "# Contoh penggunaan\n",
    "text = \"Apa kabar?\"\n",
    "text_to_speech(text)"
   ]
  },
  {
   "cell_type": "code",
   "execution_count": 46,
   "id": "2e88763a",
   "metadata": {},
   "outputs": [],
   "source": [
    "from gtts import gTTS\n",
    "import os\n",
    "\n",
    "def text_to_speech(text, filename):\n",
    "    # Membuat objek gTTS dengan teks yang diberikan\n",
    "    tts = gTTS(text=text, lang='id')\n",
    "\n",
    "    # Simpan sebagai file suara\n",
    "    tts.save(filename)\n",
    "\n",
    "    # Putar file suara\n",
    "    os.system(f\"afplay {filename}\")\n",
    "\n",
    "# Contoh penggunaan\n",
    "text = \"Hello, apa kabar kalian semua?\"\n",
    "filename = \"output.mp3\"\n",
    "text_to_speech(text, filename)\n"
   ]
  },
  {
   "cell_type": "markdown",
   "id": "5b4672a0",
   "metadata": {},
   "source": [
    "## With Windows Operation System "
   ]
  },
  {
   "cell_type": "code",
   "execution_count": 38,
   "id": "7e468560",
   "metadata": {},
   "outputs": [
    {
     "name": "stderr",
     "output_type": "stream",
     "text": [
      "sh: start: command not found\n"
     ]
    }
   ],
   "source": [
    "from gtts import gTTS\n",
    "import os\n",
    "\n",
    "def text_to_speech(text, filename):\n",
    "    # Membuat objek gTTS dengan teks yang diberikan\n",
    "    tts = gTTS(text=text, lang='en')\n",
    "\n",
    "    # Simpan sebagai file suara\n",
    "    tts.save(filename)\n",
    "\n",
    "    # Putar file suara\n",
    "    os.system(f\"start {filename}\")\n",
    "\n",
    "# Contoh penggunaan\n",
    "text = \"Hello, how are you today?\"\n",
    "filename = \"output.mp3\"\n",
    "text_to_speech(text, filename)\n"
   ]
  },
  {
   "cell_type": "code",
   "execution_count": null,
   "id": "139679cb",
   "metadata": {},
   "outputs": [],
   "source": []
  }
 ],
 "metadata": {
  "kernelspec": {
   "display_name": "Python 3 (ipykernel)",
   "language": "python",
   "name": "python3"
  },
  "language_info": {
   "codemirror_mode": {
    "name": "ipython",
    "version": 3
   },
   "file_extension": ".py",
   "mimetype": "text/x-python",
   "name": "python",
   "nbconvert_exporter": "python",
   "pygments_lexer": "ipython3",
   "version": "3.10.9"
  }
 },
 "nbformat": 4,
 "nbformat_minor": 5
}
